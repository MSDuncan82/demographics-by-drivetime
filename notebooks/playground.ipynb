{
 "cells": [
  {
   "cell_type": "code",
   "execution_count": 1,
   "metadata": {},
   "outputs": [],
   "source": [
    "from src.paths import Paths"
   ]
  },
  {
   "cell_type": "code",
   "execution_count": 2,
   "metadata": {},
   "outputs": [],
   "source": [
    "paths = Paths()"
   ]
  },
  {
   "cell_type": "code",
   "execution_count": 3,
   "metadata": {},
   "outputs": [],
   "source": [
    "from api_wrapper.geo_api import MapboxAPI"
   ]
  },
  {
   "cell_type": "code",
   "execution_count": 4,
   "metadata": {},
   "outputs": [
    {
     "data": {
      "text/plain": [
       "\u001b[0;31mInit signature:\u001b[0m \u001b[0mMapboxAPI\u001b[0m\u001b[0;34m(\u001b[0m\u001b[0mkey\u001b[0m\u001b[0;34m)\u001b[0m\u001b[0;34m\u001b[0m\u001b[0;34m\u001b[0m\u001b[0m\n",
       "\u001b[0;31mDocstring:\u001b[0m     \n",
       "Wrapper for Mapbox API.\n",
       "\n",
       "Attributes\n",
       "----------\n",
       "iso_api : GeopAPI Instance\n",
       "    GeoAPI Object with Mapbox's isochrone web api base_url\n",
       "access_token: str\n",
       "    User's API key\n",
       "\n",
       "Methods\n",
       "---------\n",
       "get_iso_request_str(lng, lat, travel_type=\"driving\", contours_minutes=(\"10\", \"20\", \"30\"), polygons=\"true\")\n",
       "    Return request string for Mapbox isochrones\n",
       "get_iso_json(self, request_str):\n",
       "    Return json from isochrone request string\n",
       "iso_to_geojson(filepath, lng, lat, travel_type=\"driving\", contours_minutes=(\"10\", \"20\", \"30\"), polygons=\"true\")\n",
       "    Return geojson from isochrone request kwargs\n",
       "\u001b[0;31mInit docstring:\u001b[0m Initiate MapboxAPI object with API key\n",
       "\u001b[0;31mFile:\u001b[0m           ~/projects/api_wrapper/src/api_wrapper/geo_api.py\n",
       "\u001b[0;31mType:\u001b[0m           type\n",
       "\u001b[0;31mSubclasses:\u001b[0m     \n"
      ]
     },
     "metadata": {},
     "output_type": "display_data"
    }
   ],
   "source": [
    "MapboxAPI?"
   ]
  },
  {
   "cell_type": "code",
   "execution_count": null,
   "metadata": {},
   "outputs": [],
   "source": []
  }
 ],
 "metadata": {
  "kernelspec": {
   "display_name": "Python 3",
   "language": "python",
   "name": "python3"
  },
  "language_info": {
   "codemirror_mode": {
    "name": "ipython",
    "version": 3
   },
   "file_extension": ".py",
   "mimetype": "text/x-python",
   "name": "python",
   "nbconvert_exporter": "python",
   "pygments_lexer": "ipython3",
   "version": "3.8.2"
  }
 },
 "nbformat": 4,
 "nbformat_minor": 4
}
