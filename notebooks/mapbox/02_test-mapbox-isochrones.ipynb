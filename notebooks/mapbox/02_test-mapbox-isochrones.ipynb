{
 "cells": [
  {
   "cell_type": "code",
   "execution_count": 9,
   "metadata": {},
   "outputs": [
    {
     "name": "stdout",
     "output_type": "stream",
     "text": [
      "/home/mike/cavalier/projects/demographics-by-drivetime\n"
     ]
    }
   ],
   "source": [
    "%cd /home/mike/cavalier/projects/demographics-by-drivetime "
   ]
  },
  {
   "cell_type": "code",
   "execution_count": 10,
   "metadata": {},
   "outputs": [
    {
     "data": {
      "text/plain": [
       "True"
      ]
     },
     "execution_count": 10,
     "metadata": {},
     "output_type": "execute_result"
    }
   ],
   "source": [
    "import dotenv\n",
    "import os\n",
    "dotenv_path = '.env'\n",
    "dotenv.load_dotenv(dotenv_path)"
   ]
  },
  {
   "cell_type": "code",
   "execution_count": 11,
   "metadata": {},
   "outputs": [],
   "source": [
    "key = os.environ['MAPBOX_ISO_APIKEY']"
   ]
  },
  {
   "cell_type": "code",
   "execution_count": 12,
   "metadata": {},
   "outputs": [],
   "source": [
    "import json\n",
    "import requests\n",
    "import pandas as pd\n",
    "import numpy as np\n",
    "import geopandas as gpd\n",
    "from api_wrapper.api import API"
   ]
  },
  {
   "cell_type": "code",
   "execution_count": 13,
   "metadata": {},
   "outputs": [],
   "source": [
    "api_baseurl = 'https://api.mapbox.com/isochrone/v1/mapbox'"
   ]
  },
  {
   "cell_type": "code",
   "execution_count": 14,
   "metadata": {},
   "outputs": [],
   "source": [
    "travel_type = 'driving'"
   ]
  },
  {
   "cell_type": "code",
   "execution_count": 15,
   "metadata": {},
   "outputs": [],
   "source": [
    "lng = '-105.15742179'"
   ]
  },
  {
   "cell_type": "code",
   "execution_count": 16,
   "metadata": {},
   "outputs": [],
   "source": [
    "lat = '39.673203005'"
   ]
  },
  {
   "cell_type": "code",
   "execution_count": 17,
   "metadata": {},
   "outputs": [],
   "source": [
    "drive_times = ['10', '20', '30']"
   ]
  },
  {
   "cell_type": "code",
   "execution_count": 18,
   "metadata": {},
   "outputs": [],
   "source": [
    "options = {'contours_minutes':'%2C'.join(drive_times),\n",
    "           'polygons':'true',\n",
    "           'access_token':key}"
   ]
  },
  {
   "cell_type": "code",
   "execution_count": 19,
   "metadata": {},
   "outputs": [],
   "source": [
    "options_str = '&'.join([f'{k}={v}' for k, v in options.items()])"
   ]
  },
  {
   "cell_type": "code",
   "execution_count": 20,
   "metadata": {},
   "outputs": [
    {
     "data": {
      "text/plain": [
       "'contours_minutes=10%2C20%2C30&polygons=true&access_token=sk.eyJ1IjoibWlrZXNkdW5jYW4iLCJhIjoiY2s5b3MwYjJsMDI2czNmcDhjeG1jM3loNCJ9.GSBorFTFsgY-xPt6qkg5RA'"
      ]
     },
     "execution_count": 20,
     "metadata": {},
     "output_type": "execute_result"
    }
   ],
   "source": [
    "options_str"
   ]
  },
  {
   "cell_type": "code",
   "execution_count": 21,
   "metadata": {},
   "outputs": [],
   "source": [
    "request_url = f'{api_baseurl}/{travel_type}/{lng}%2C{lat}?' + options_str"
   ]
  },
  {
   "cell_type": "code",
   "execution_count": 22,
   "metadata": {},
   "outputs": [
    {
     "data": {
      "text/plain": [
       "'https://api.mapbox.com/isochrone/v1/mapbox/driving/-105.15742179%2C39.673203005?contours_minutes=10%2C20%2C30&polygons=true&access_token=sk.eyJ1IjoibWlrZXNkdW5jYW4iLCJhIjoiY2s5b3MwYjJsMDI2czNmcDhjeG1jM3loNCJ9.GSBorFTFsgY-xPt6qkg5RA'"
      ]
     },
     "execution_count": 22,
     "metadata": {},
     "output_type": "execute_result"
    }
   ],
   "source": [
    "request_url.replace('amp;', '')"
   ]
  },
  {
   "cell_type": "code",
   "execution_count": 18,
   "metadata": {},
   "outputs": [],
   "source": [
    "response = requests.get('https://api.mapbox.com/isochrone/v1/mapbox/driving/-105.15742179%2C39.673203005?contours_minutes=5%2C10%2C15%2C20&polygons=true&access_token=sk.eyJ1IjoibWlrZXNkdW5jYW4iLCJhIjoiY2s5b3MwYjJsMDI2czNmcDhjeG1jM3loNCJ9.GSBorFTFsgY-xPt6qkg5RA')"
   ]
  },
  {
   "cell_type": "code",
   "execution_count": 22,
   "metadata": {},
   "outputs": [],
   "source": [
    "den_test_gdf = gpd.GeoDataFrame.from_features(response.json()['features'])"
   ]
  },
  {
   "cell_type": "code",
   "execution_count": 24,
   "metadata": {},
   "outputs": [],
   "source": [
    "den_test_gdf.to_file('gis/test_isochro.geojson', driver='GeoJSON')"
   ]
  },
  {
   "cell_type": "code",
   "execution_count": 23,
   "metadata": {},
   "outputs": [],
   "source": [
    "mapbox_api = API(base_url=api_baseurl)"
   ]
  },
  {
   "cell_type": "code",
   "execution_count": 24,
   "metadata": {},
   "outputs": [
    {
     "name": "stdout",
     "output_type": "stream",
     "text": [
      "https://api.mapbox.com/isochrone/v1/mapboxcontours_minutes=10%2C20%2C30polygons=trueaccess_token=sk.eyJ1IjoibWlrZXNkdW5jYW4iLCJhIjoiY2s5b3MwYjJsMDI2czNmcDhjeG1jM3loNCJ9.GSBorFTFsgY-xPt6qkg5RA\n"
     ]
    },
    {
     "data": {
      "text/plain": [
       "'https://api.mapbox.com/isochrone/v1/mapboxcontours_minutes=10%2C20%2C30polygons=trueaccess_token=sk.eyJ1IjoibWlrZXNkdW5jYW4iLCJhIjoiY2s5b3MwYjJsMDI2czNmcDhjeG1jM3loNCJ9.GSBorFTFsgY-xPt6qkg5RA'"
      ]
     },
     "execution_count": 24,
     "metadata": {},
     "output_type": "execute_result"
    }
   ],
   "source": [
    "mapbox_api.build_request_str(options)"
   ]
  },
  {
   "cell_type": "code",
   "execution_count": null,
   "metadata": {},
   "outputs": [],
   "source": []
  }
 ],
 "metadata": {
  "kernelspec": {
   "display_name": "Python 3",
   "language": "python",
   "name": "python3"
  },
  "language_info": {
   "codemirror_mode": {
    "name": "ipython",
    "version": 3
   },
   "file_extension": ".py",
   "mimetype": "text/x-python",
   "name": "python",
   "nbconvert_exporter": "python",
   "pygments_lexer": "ipython3",
   "version": "3.8.2"
  }
 },
 "nbformat": 4,
 "nbformat_minor": 4
}
