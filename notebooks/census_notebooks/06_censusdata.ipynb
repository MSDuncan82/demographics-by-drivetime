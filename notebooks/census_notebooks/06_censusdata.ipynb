{
 "cells": [
  {
   "cell_type": "code",
   "execution_count": 1,
   "metadata": {},
   "outputs": [],
   "source": [
    "from api_wrapper.census_api import CensusAPI, CensusBoundaries, CensusDataAPI\n",
    "import re"
   ]
  },
  {
   "cell_type": "code",
   "execution_count": 2,
   "metadata": {},
   "outputs": [],
   "source": [
    "census_data = CensusDataAPI()"
   ]
  },
  {
   "cell_type": "code",
   "execution_count": 3,
   "metadata": {},
   "outputs": [],
   "source": [
    "df = census_data.get_data(state='Colorado', county='Jefferson County', census_tract='*')"
   ]
  },
  {
   "cell_type": "code",
   "execution_count": 4,
   "metadata": {},
   "outputs": [],
   "source": [
    "cens_geo = df.index.tolist()[0]"
   ]
  },
  {
   "cell_type": "code",
   "execution_count": 23,
   "metadata": {},
   "outputs": [],
   "source": [
    "geo_dict = {boundary_name: fip for boundary_name, fip in cens_geo.geo}"
   ]
  },
  {
   "cell_type": "code",
   "execution_count": 6,
   "metadata": {},
   "outputs": [
    {
     "data": {
      "text/plain": [
       "{'state': '08', 'county': '059', 'tract': '011702'}"
      ]
     },
     "execution_count": 6,
     "metadata": {},
     "output_type": "execute_result"
    }
   ],
   "source": [
    "geo_dict"
   ]
  },
  {
   "cell_type": "code",
   "execution_count": 7,
   "metadata": {},
   "outputs": [],
   "source": [
    "geoid = ''.join(list(geo_dict.values()))"
   ]
  },
  {
   "cell_type": "code",
   "execution_count": 9,
   "metadata": {},
   "outputs": [],
   "source": [
    "states = census_data.state_names[geo_dict['state']]"
   ]
  },
  {
   "cell_type": "code",
   "execution_count": 17,
   "metadata": {},
   "outputs": [],
   "source": [
    "counties = census_data.county_names[f'{geo_dict[\"state\"]}{geo_dict[\"county\"]}']"
   ]
  },
  {
   "cell_type": "code",
   "execution_count": 21,
   "metadata": {},
   "outputs": [],
   "source": [
    "def parse_geodict(geo_dict):\n",
    "    \n",
    "    geo_names_dict = {}\n",
    "    for boundary_name, fip in geo_dict.items():\n",
    "        \n",
    "        if boundary_name == 'state':\n",
    "            geo_names_dict[boundary_name] = census_data.state_names[geo_dict['state']]\n",
    "    \n",
    "        elif boundary_name == 'county':\n",
    "            geo_names_dict[boundary_name] = census_data.county_names[f'{geo_dict[\"state\"]}{geo_dict[\"county\"]}']\n",
    "        \n",
    "        else:\n",
    "            geo_names_dict[boundary_name] = fip\n",
    "            \n",
    "    return geo_names_dict\n",
    "         "
   ]
  },
  {
   "cell_type": "code",
   "execution_count": 24,
   "metadata": {},
   "outputs": [],
   "source": [
    "def parse_cens_geo(census_geo):\n",
    "    \n",
    "    geo_dict = {boundary_name: fip for boundary_name, fip in census_geo.geo}\n",
    "    \n",
    "    return parse_geodict(geo_dict)"
   ]
  },
  {
   "cell_type": "code",
   "execution_count": 27,
   "metadata": {},
   "outputs": [
    {
     "data": {
      "text/plain": [
       "{'state': 'Colorado', 'county': 'Jefferson County', 'tract': '011702'}"
      ]
     },
     "execution_count": 27,
     "metadata": {},
     "output_type": "execute_result"
    }
   ],
   "source": [
    "parse_cens_geo(cens_geo)"
   ]
  },
  {
   "cell_type": "code",
   "execution_count": null,
   "metadata": {},
   "outputs": [],
   "source": []
  }
 ],
 "metadata": {
  "kernelspec": {
   "display_name": "Python 3",
   "language": "python",
   "name": "python3"
  },
  "language_info": {
   "codemirror_mode": {
    "name": "ipython",
    "version": 3
   },
   "file_extension": ".py",
   "mimetype": "text/x-python",
   "name": "python",
   "nbconvert_exporter": "python",
   "pygments_lexer": "ipython3",
   "version": "3.8.2"
  }
 },
 "nbformat": 4,
 "nbformat_minor": 4
}
