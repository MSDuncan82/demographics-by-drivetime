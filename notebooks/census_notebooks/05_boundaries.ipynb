{
 "cells": [
  {
   "cell_type": "code",
   "execution_count": 1,
   "metadata": {},
   "outputs": [],
   "source": [
    "from api_wrapper.census_api import CensusAPI, CensusBoundaries, CensusDataAPI\n",
    "from proj_paths.paths import Paths\n",
    "import pandas as pd\n",
    "import numpy as np\n",
    "\n",
    "from src.data.load_sql import SqlExec\n",
    "from src.data.census_boundaries import CensusGeometry"
   ]
  },
  {
   "cell_type": "code",
   "execution_count": 2,
   "metadata": {},
   "outputs": [],
   "source": [
    "census_boundaries = CensusGeometry()"
   ]
  },
  {
   "cell_type": "code",
   "execution_count": 3,
   "metadata": {},
   "outputs": [
    {
     "name": "stdout",
     "output_type": "stream",
     "text": [
      "Downloading https://www2.census.gov/geo/tiger/TIGER2018/COUNTY/tl_2018_us_county.zip...\n",
      "To Zip file...\n",
      "Unzipping file...\n",
      "Finding .shp files...\n",
      "Converting to gdf...\n",
      "Downloading https://www2.census.gov/geo/tiger/TIGER2018/TABBLOCK/tl_2018_08_tabblock10.zip...\n",
      "To Zip file...\n",
      "Unzipping file...\n",
      "Finding .shp files...\n",
      "Converting to gdf...\n"
     ]
    }
   ],
   "source": [
    "county_gdf = census_boundaries.get_county_boundaries()\n",
    "block_gdf = census_boundaries.get_block_boundaries('Colorado')"
   ]
  },
  {
   "cell_type": "code",
   "execution_count": 9,
   "metadata": {},
   "outputs": [
    {
     "data": {
      "text/plain": [
       "STATEFP                                                     31\n",
       "COUNTYFP                                                   039\n",
       "COUNTYNS                                              00835841\n",
       "NAME                                                    Cuming\n",
       "NAMELSAD                                         Cuming County\n",
       "LSAD                                                        06\n",
       "CLASSFP                                                     H1\n",
       "MTFCC                                                    G4020\n",
       "CSAFP                                                     None\n",
       "CBSAFP                                                    None\n",
       "METDIVFP                                                  None\n",
       "FUNCSTAT                                                     A\n",
       "ALAND                                               1477652222\n",
       "AWATER                                                10690952\n",
       "INTPTLAT                                           +41.9158651\n",
       "INTPTLON                                          -096.7885168\n",
       "geometry     POLYGON ((-97.019516 42.004097, -97.019519 42....\n",
       "STATENAME                                             Nebraska\n",
       "Name: 31039, dtype: object"
      ]
     },
     "execution_count": 9,
     "metadata": {},
     "output_type": "execute_result"
    }
   ],
   "source": [
    "county_gdf.iloc[0]"
   ]
  },
  {
   "cell_type": "code",
   "execution_count": 10,
   "metadata": {},
   "outputs": [
    {
     "data": {
      "text/plain": [
       "STATEFP10                                                    08\n",
       "COUNTYFP10                                                  007\n",
       "TRACTCE10                                                974300\n",
       "BLOCKCE10                                                  3026\n",
       "NAME10                                               Block 3026\n",
       "MTFCC10                                                   G5040\n",
       "UR10                                                          U\n",
       "UACE10                                                    66889\n",
       "UATYPE                                                        C\n",
       "FUNCSTAT10                                                    S\n",
       "ALAND10                                                   12207\n",
       "AWATER10                                                      0\n",
       "INTPTLAT10                                          +37.2697721\n",
       "INTPTLON10                                         -107.0439871\n",
       "geometry      POLYGON ((-107.045416 37.269302, -107.045416 3...\n",
       "STATENAME                                              Colorado\n",
       "COUNTYNAME                               Aguas Buenas Municipio\n",
       "Name: 080079743003026, dtype: object"
      ]
     },
     "execution_count": 10,
     "metadata": {},
     "output_type": "execute_result"
    }
   ],
   "source": [
    "block_gdf.iloc[0]"
   ]
  },
  {
   "cell_type": "code",
   "execution_count": null,
   "metadata": {},
   "outputs": [],
   "source": []
  }
 ],
 "metadata": {
  "kernelspec": {
   "display_name": "Python 3",
   "language": "python",
   "name": "python3"
  },
  "language_info": {
   "codemirror_mode": {
    "name": "ipython",
    "version": 3
   },
   "file_extension": ".py",
   "mimetype": "text/x-python",
   "name": "python",
   "nbconvert_exporter": "python",
   "pygments_lexer": "ipython3",
   "version": "3.8.2"
  }
 },
 "nbformat": 4,
 "nbformat_minor": 4
}