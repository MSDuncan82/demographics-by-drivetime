{
 "cells": [
  {
   "cell_type": "code",
   "execution_count": 1,
   "metadata": {},
   "outputs": [],
   "source": [
    "from api_wrapper.census_api import CensusAPI, CensusBoundaries, CensusDataAPI\n",
    "from proj_paths.paths import Paths\n",
    "import pandas as pd\n",
    "import numpy as np\n",
    "\n",
    "from src.data.load_sql import SqlExec"
   ]
  },
  {
   "cell_type": "code",
   "execution_count": 2,
   "metadata": {},
   "outputs": [
    {
     "name": "stdout",
     "output_type": "stream",
     "text": [
      "/home/mike/cavalier/projects/demographics-by-drivetime\n"
     ]
    }
   ],
   "source": [
    "paths = Paths()"
   ]
  },
  {
   "cell_type": "code",
   "execution_count": 3,
   "metadata": {},
   "outputs": [],
   "source": [
    "summary_files = paths.data.census_description.summary_filetemplates.filepaths"
   ]
  },
  {
   "cell_type": "code",
   "execution_count": 4,
   "metadata": {},
   "outputs": [],
   "source": [
    "def pad_list(lst, length=8, pad_value=None):\n",
    "    \n",
    "    lst_length = len(lst)\n",
    "    elements_to_pad = length - lst_length\n",
    "    \n",
    "    return lst + elements_to_pad * [pad_value]"
   ]
  },
  {
   "cell_type": "code",
   "execution_count": 5,
   "metadata": {},
   "outputs": [],
   "source": [
    "def parse_seq_excel(seq_excel_file):\n",
    "    \n",
    "    df = pd.read_excel(seq_excel_file)\n",
    "    df = df.drop(df.columns[:6], axis=1)\n",
    "    \n",
    "    df = df.T\n",
    "    df.columns = ['table_data']\n",
    "    \n",
    "    df['table_data'] = df.table_data.str.split('%')\n",
    "    df = pd.DataFrame(df['table_data'].to_list(), index=df.index)\n",
    "    \n",
    "    return df"
   ]
  },
  {
   "cell_type": "code",
   "execution_count": 6,
   "metadata": {},
   "outputs": [],
   "source": [
    "seq_dfs_lst = [parse_seq_excel(file) for file in summary_files if file.endswith('.xlsx') and 'seq' in file]"
   ]
  },
  {
   "cell_type": "code",
   "execution_count": 7,
   "metadata": {},
   "outputs": [],
   "source": [
    "full_table_df = pd.concat(seq_dfs_lst, axis=0)"
   ]
  },
  {
   "cell_type": "code",
   "execution_count": 8,
   "metadata": {},
   "outputs": [],
   "source": [
    "full_table_df.columns = ['overall_category'] + [f'subtitle_{n}' for n in range(8)]"
   ]
  },
  {
   "cell_type": "code",
   "execution_count": 9,
   "metadata": {},
   "outputs": [],
   "source": [
    "full_table_df.index.name = 'table_id'"
   ]
  },
  {
   "cell_type": "code",
   "execution_count": 10,
   "metadata": {},
   "outputs": [],
   "source": [
    "sql_exec = SqlExec()"
   ]
  },
  {
   "cell_type": "code",
   "execution_count": 11,
   "metadata": {},
   "outputs": [],
   "source": [
    "sql_exec.create_tables()"
   ]
  },
  {
   "cell_type": "code",
   "execution_count": 12,
   "metadata": {},
   "outputs": [],
   "source": [
    "full_table_df.to_sql('table_metadata', sql_exec.engine, if_exists='append', method=\"multi\")"
   ]
  },
  {
   "cell_type": "code",
   "execution_count": 17,
   "metadata": {},
   "outputs": [
    {
     "data": {
      "text/plain": [
       "MetaData(bind=None)"
      ]
     },
     "execution_count": 17,
     "metadata": {},
     "output_type": "execute_result"
    }
   ],
   "source": [
    "sql_exec.Base.metadata"
   ]
  },
  {
   "cell_type": "code",
   "execution_count": null,
   "metadata": {},
   "outputs": [],
   "source": []
  }
 ],
 "metadata": {
  "kernelspec": {
   "display_name": "Python 3",
   "language": "python",
   "name": "python3"
  },
  "language_info": {
   "codemirror_mode": {
    "name": "ipython",
    "version": 3
   },
   "file_extension": ".py",
   "mimetype": "text/x-python",
   "name": "python",
   "nbconvert_exporter": "python",
   "pygments_lexer": "ipython3",
   "version": "3.8.2"
  }
 },
 "nbformat": 4,
 "nbformat_minor": 4
}
